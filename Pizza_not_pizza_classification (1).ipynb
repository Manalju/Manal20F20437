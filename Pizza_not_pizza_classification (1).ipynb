{
  "nbformat": 4,
  "nbformat_minor": 0,
  "metadata": {
    "colab": {
      "provenance": [],
      "toc_visible": true
    },
    "kernelspec": {
      "name": "python3",
      "display_name": "Python 3"
    },
    "language_info": {
      "name": "python"
    }
  },
  "cells": [
    {
      "cell_type": "code",
      "execution_count": null,
      "metadata": {
        "colab": {
          "base_uri": "https://localhost:8080/"
        },
        "id": "Ge1132S0WzFQ",
        "outputId": "7af89fd4-3aa0-4719-949f-84da40b061f4"
      },
      "outputs": [
        {
          "output_type": "stream",
          "name": "stdout",
          "text": [
            "Mounted at /content/drive\n"
          ]
        }
      ],
      "source": [
        "#My dataset is available in googledrive; so I am accessing my drive from colab\n",
        "from google.colab import drive\n",
        "drive.mount('/content/drive', force_remount=True)\n",
        "#Once this is executed, you will see your drive appearing on the left hand side"
      ]
    },
    {
      "cell_type": "code",
      "source": [
        "# Define paths to the dataset\n",
        "train_dir = '/content/drive/MyDrive/train'  # Update with your actual path\n",
        "test_dir = '/content/drive/MyDrive/test'    # Update with your actual path"
      ],
      "metadata": {
        "id": "JYjOJY3FnWYY"
      },
      "execution_count": 6,
      "outputs": []
    },
    {
      "cell_type": "code",
      "source": [
        "from google.colab import drive\n",
        "drive.mount('/content/drive')"
      ],
      "metadata": {
        "id": "0eFHQ1gGYnYH"
      },
      "execution_count": null,
      "outputs": []
    },
    {
      "cell_type": "code",
      "source": [
        "import os\n",
        "print(len(os.listdir('/content/drive/MyDrive/train/not_pizza')))\n",
        "print(len(os.listdir('/content/drive/MyDrive/train/pizza')))\n",
        "print(len(os.listdir('/content/drive/MyDrive/test/not_pizza')))\n",
        "print(len(os.listdir('/content/drive/MyDrive/test/pizza')))"
      ],
      "metadata": {
        "colab": {
          "base_uri": "https://localhost:8080/"
        },
        "id": "9FUDN6IHn5TI",
        "outputId": "47759c9b-7932-4f91-93ba-64b2fc7ad4a2"
      },
      "execution_count": 5,
      "outputs": [
        {
          "output_type": "stream",
          "name": "stdout",
          "text": [
            "800\n",
            "800\n",
            "183\n",
            "183\n"
          ]
        }
      ]
    },
    {
      "cell_type": "code",
      "source": [
        "import tensorflow as tf\n",
        "from tensorflow.keras.preprocessing.image import ImageDataGenerator\n",
        "\n",
        "# Create ImageDataGenerator for training set\n",
        "train_datagen = ImageDataGenerator(\n",
        "    rescale=1./255,\n",
        "    validation_split=0.2  # Split 20% of the images for validation\n",
        ")\n",
        "\n",
        "# Load and prepare training data\n",
        "train_data = train_datagen.flow_from_directory(\n",
        "    train_dir,\n",
        "    target_size=(256,256),\n",
        "    batch_size=32,\n",
        "    class_mode='binary',  # 'binary' for binary classification (pizza vs. not pizza)\n",
        "    subset='training'  # Specify 'training' for the training set\n",
        ")\n",
        "\n",
        "# Create ImageDataGenerator for validation set\n",
        "validation_datagen = ImageDataGenerator(\n",
        "    rescale=1./255,\n",
        "    validation_split=0.2  # Note: Using the same validation split as in the training set\n",
        ")\n",
        "\n",
        "# Load and prepare validation data\n",
        "validation_data = validation_datagen.flow_from_directory(\n",
        "    train_dir,\n",
        "    target_size=(256,256),\n",
        "    batch_size=32,\n",
        "    class_mode='binary',\n",
        "    subset='validation'  # Specify 'validation' for the validation set\n",
        ")"
      ],
      "metadata": {
        "colab": {
          "base_uri": "https://localhost:8080/"
        },
        "id": "yHmY7ex5sTw0",
        "outputId": "10d06fd0-e786-455b-e325-2515844d7f8b"
      },
      "execution_count": 7,
      "outputs": [
        {
          "output_type": "stream",
          "name": "stdout",
          "text": [
            "Found 1280 images belonging to 2 classes.\n",
            "Found 320 images belonging to 2 classes.\n"
          ]
        }
      ]
    },
    {
      "cell_type": "code",
      "source": [
        "from tensorflow import keras\n",
        "from keras import Sequential\n",
        "from keras.layers import Dense,Conv2D,MaxPooling2D,Flatten,BatchNormalization,UpSampling2D, Dropout"
      ],
      "metadata": {
        "id": "wLnCgA1n2C2M"
      },
      "execution_count": 8,
      "outputs": []
    },
    {
      "cell_type": "code",
      "source": [
        "# create CNN model\n",
        "\n",
        "model = Sequential()\n",
        "\n",
        "model.add(Conv2D(32,kernel_size=(3,3),padding='valid',activation='relu',input_shape=(256,256,3)))  # 32 filters\n",
        "#model.add(BatchNormalization())  # added to reduce overfitting\n",
        "model.add(MaxPooling2D(pool_size=(2,2),strides=2,padding='valid'))\n",
        "\n",
        "model.add(Conv2D(64,kernel_size=(3,3),padding='valid',activation='relu'))\n",
        "#model.add(BatchNormalization())  # added to reduce overfitting\n",
        "model.add(MaxPooling2D(pool_size=(2,2),strides=2,padding='valid'))\n",
        "\n",
        "model.add(Conv2D(128,kernel_size=(3,3),padding='valid',activation='relu'))\n",
        "#model.add(BatchNormalization())  # added to reduce overfitting\n",
        "model.add(MaxPooling2D(pool_size=(2,2),strides=2,padding='valid'))\n",
        "\n",
        "model.add(Flatten())\n",
        "\n",
        "model.add(Dense(128,activation='relu')) #feature reduction\n",
        "#model.add(Dropout(0.1))  # added to reduce overfitting\n",
        "model.add(Dense(64,activation='relu'))\n",
        "#model.add(Dropout(0.1))  # added to reduce overfitting\n",
        "model.add(Dense(1,activation='sigmoid'))  #output layer"
      ],
      "metadata": {
        "id": "EpJbYbte2QGf"
      },
      "execution_count": 9,
      "outputs": []
    },
    {
      "cell_type": "code",
      "source": [
        "from keras.optimizers import Adam\n",
        "model.compile(optimizer=Adam(learning_rate=0.001),loss='binary_crossentropy',metrics=['accuracy']) #binary_crossentropy - binary classification"
      ],
      "metadata": {
        "id": "sHRx4z2e2ckE"
      },
      "execution_count": 10,
      "outputs": []
    },
    {
      "cell_type": "code",
      "source": [
        "history = model.fit(train_data, epochs=30, validation_data=validation_data)"
      ],
      "metadata": {
        "colab": {
          "base_uri": "https://localhost:8080/"
        },
        "id": "SrbGEAEZ2mfr",
        "outputId": "d905d231-d163-4d3b-d242-200acc7cbe11"
      },
      "execution_count": 11,
      "outputs": [
        {
          "output_type": "stream",
          "name": "stdout",
          "text": [
            "Epoch 1/30\n",
            "40/40 [==============================] - 375s 9s/step - loss: 0.7711 - accuracy: 0.5469 - val_loss: 0.6388 - val_accuracy: 0.6281\n",
            "Epoch 2/30\n",
            "40/40 [==============================] - 228s 6s/step - loss: 0.6074 - accuracy: 0.6766 - val_loss: 0.5846 - val_accuracy: 0.6875\n",
            "Epoch 3/30\n",
            "40/40 [==============================] - 221s 6s/step - loss: 0.5705 - accuracy: 0.6789 - val_loss: 0.5559 - val_accuracy: 0.7625\n",
            "Epoch 4/30\n",
            "40/40 [==============================] - 236s 6s/step - loss: 0.5023 - accuracy: 0.7570 - val_loss: 0.5385 - val_accuracy: 0.7406\n",
            "Epoch 5/30\n",
            "40/40 [==============================] - 231s 6s/step - loss: 0.4805 - accuracy: 0.7773 - val_loss: 0.5325 - val_accuracy: 0.7250\n",
            "Epoch 6/30\n",
            "40/40 [==============================] - 231s 6s/step - loss: 0.3819 - accuracy: 0.8250 - val_loss: 0.5597 - val_accuracy: 0.7656\n",
            "Epoch 7/30\n",
            "40/40 [==============================] - 226s 6s/step - loss: 0.3030 - accuracy: 0.8711 - val_loss: 0.5830 - val_accuracy: 0.7281\n",
            "Epoch 8/30\n",
            "40/40 [==============================] - 213s 5s/step - loss: 0.1977 - accuracy: 0.9266 - val_loss: 0.8878 - val_accuracy: 0.6594\n",
            "Epoch 9/30\n",
            "40/40 [==============================] - 217s 5s/step - loss: 0.1265 - accuracy: 0.9523 - val_loss: 0.9420 - val_accuracy: 0.7375\n",
            "Epoch 10/30\n",
            "40/40 [==============================] - 226s 6s/step - loss: 0.0723 - accuracy: 0.9766 - val_loss: 1.0587 - val_accuracy: 0.7250\n",
            "Epoch 11/30\n",
            "40/40 [==============================] - 215s 5s/step - loss: 0.0359 - accuracy: 0.9906 - val_loss: 1.4994 - val_accuracy: 0.7031\n",
            "Epoch 12/30\n",
            "40/40 [==============================] - 222s 6s/step - loss: 0.0192 - accuracy: 0.9961 - val_loss: 1.4909 - val_accuracy: 0.7250\n",
            "Epoch 13/30\n",
            "40/40 [==============================] - 218s 5s/step - loss: 0.0089 - accuracy: 0.9984 - val_loss: 1.6801 - val_accuracy: 0.7188\n",
            "Epoch 14/30\n",
            "40/40 [==============================] - 215s 5s/step - loss: 0.0042 - accuracy: 1.0000 - val_loss: 1.8512 - val_accuracy: 0.7094\n",
            "Epoch 15/30\n",
            "40/40 [==============================] - 216s 5s/step - loss: 8.7931e-04 - accuracy: 1.0000 - val_loss: 1.9857 - val_accuracy: 0.7063\n",
            "Epoch 16/30\n",
            "40/40 [==============================] - 214s 5s/step - loss: 4.7838e-04 - accuracy: 1.0000 - val_loss: 2.0838 - val_accuracy: 0.7125\n",
            "Epoch 17/30\n",
            "40/40 [==============================] - 218s 5s/step - loss: 3.0789e-04 - accuracy: 1.0000 - val_loss: 2.1672 - val_accuracy: 0.7063\n",
            "Epoch 18/30\n",
            "40/40 [==============================] - 220s 6s/step - loss: 2.2935e-04 - accuracy: 1.0000 - val_loss: 2.2385 - val_accuracy: 0.7094\n",
            "Epoch 19/30\n",
            "40/40 [==============================] - 219s 5s/step - loss: 1.8008e-04 - accuracy: 1.0000 - val_loss: 2.2835 - val_accuracy: 0.7094\n",
            "Epoch 20/30\n",
            "40/40 [==============================] - 217s 5s/step - loss: 1.6195e-04 - accuracy: 1.0000 - val_loss: 2.3196 - val_accuracy: 0.7094\n",
            "Epoch 21/30\n",
            "40/40 [==============================] - 219s 5s/step - loss: 1.2405e-04 - accuracy: 1.0000 - val_loss: 2.3792 - val_accuracy: 0.7094\n",
            "Epoch 22/30\n",
            "40/40 [==============================] - 218s 5s/step - loss: 1.0723e-04 - accuracy: 1.0000 - val_loss: 2.4198 - val_accuracy: 0.7094\n",
            "Epoch 23/30\n",
            "40/40 [==============================] - 215s 5s/step - loss: 9.1880e-05 - accuracy: 1.0000 - val_loss: 2.4810 - val_accuracy: 0.7094\n",
            "Epoch 24/30\n",
            "40/40 [==============================] - 218s 5s/step - loss: 8.0555e-05 - accuracy: 1.0000 - val_loss: 2.4953 - val_accuracy: 0.7094\n",
            "Epoch 25/30\n",
            "40/40 [==============================] - 222s 6s/step - loss: 7.0409e-05 - accuracy: 1.0000 - val_loss: 2.5324 - val_accuracy: 0.7094\n",
            "Epoch 26/30\n",
            "40/40 [==============================] - 219s 5s/step - loss: 6.1299e-05 - accuracy: 1.0000 - val_loss: 2.5838 - val_accuracy: 0.7094\n",
            "Epoch 27/30\n",
            "40/40 [==============================] - 216s 5s/step - loss: 5.6216e-05 - accuracy: 1.0000 - val_loss: 2.5996 - val_accuracy: 0.7063\n",
            "Epoch 28/30\n",
            "40/40 [==============================] - 217s 5s/step - loss: 5.0227e-05 - accuracy: 1.0000 - val_loss: 2.6315 - val_accuracy: 0.7094\n",
            "Epoch 29/30\n",
            "40/40 [==============================] - 215s 5s/step - loss: 4.5197e-05 - accuracy: 1.0000 - val_loss: 2.6343 - val_accuracy: 0.7125\n",
            "Epoch 30/30\n",
            "40/40 [==============================] - 217s 5s/step - loss: 4.1684e-05 - accuracy: 1.0000 - val_loss: 2.6802 - val_accuracy: 0.7094\n"
          ]
        }
      ]
    },
    {
      "cell_type": "code",
      "source": [
        "import matplotlib.pyplot as plt\n",
        "\n",
        "plt.plot(history.history['accuracy'],color='red',label='train')\n",
        "plt.plot(history.history['val_accuracy'],color='blue',label='validation')\n",
        "plt.legend()\n",
        "plt.show()"
      ],
      "metadata": {
        "colab": {
          "base_uri": "https://localhost:8080/",
          "height": 430
        },
        "id": "hPgi2QXXRv_H",
        "outputId": "d9099b20-162f-4583-932b-84a27c05cc65"
      },
      "execution_count": 12,
      "outputs": [
        {
          "output_type": "display_data",
          "data": {
            "text/plain": [
              "<Figure size 640x480 with 1 Axes>"
            ],
            "image/png": "[encoded data removed]"
          },
          "metadata": {}
        }
      ]
    },
    {
      "cell_type": "code",
      "source": [],
      "metadata": {
        "id": "UQm6ZRIOFKxb"
      },
      "execution_count": null,
      "outputs": []
    },
    {
      "cell_type": "code",
      "source": [
        "plt.plot(history.history['loss'],color='red',label='train')\n",
        "plt.plot(history.history['val_loss'],color='blue',label='validation')\n",
        "plt.legend()\n",
        "plt.show()"
      ],
      "metadata": {
        "colab": {
          "base_uri": "https://localhost:8080/",
          "height": 430
        },
        "id": "tXmeB5RoR9xO",
        "outputId": "d5173f54-7a5c-40ed-fa53-4be39e033f66"
      },
      "execution_count": 13,
      "outputs": [
        {
          "output_type": "display_data",
          "data": {
            "text/plain": [
              "<Figure size 640x480 with 1 Axes>"
            ],
            "image/png": "[encoded data removed]"
          },
          "metadata": {}
        }
      ]
    },
    {
      "cell_type": "code",
      "source": [
        "test_datagen = ImageDataGenerator(rescale=1./255)\n",
        "test_data = test_datagen.flow_from_directory(\n",
        "    test_dir,\n",
        "    target_size=(256,256),\n",
        "    batch_size=32,\n",
        "    class_mode='binary'\n",
        ")"
      ],
      "metadata": {
        "colab": {
          "base_uri": "https://localhost:8080/"
        },
        "id": "kriy7-3-SEyo",
        "outputId": "34e8945d-d1a4-4743-fead-ccbbcbf13f56"
      },
      "execution_count": 14,
      "outputs": [
        {
          "output_type": "stream",
          "name": "stdout",
          "text": [
            "Found 366 images belonging to 2 classes.\n"
          ]
        }
      ]
    },
    {
      "cell_type": "code",
      "source": [
        "#predict the test data\n",
        "predictions = model.predict(test_data)\n",
        "print(predictions)"
      ],
      "metadata": {
        "colab": {
          "base_uri": "https://localhost:8080/"
        },
        "id": "Rg9T1PGHSX55",
        "outputId": "0fef1b7b-1b9b-46c1-f275-6b26b2a1009e"
      },
      "execution_count": 15,
      "outputs": [
        {
          "output_type": "stream",
          "name": "stdout",
          "text": [
            "12/12 [==============================] - 43s 4s/step\n",
            "[[9.64192867e-01]\n",
            " [1.73974531e-05]\n",
            " [8.72883499e-01]\n",
            " [4.95646477e-01]\n",
            " [1.49051396e-10]\n",
            " [9.99950588e-01]\n",
            " [9.97286290e-02]\n",
            " [2.67659798e-02]\n",
            " [9.99913514e-01]\n",
            " [7.84909498e-05]\n",
            " [2.01332290e-02]\n",
            " [9.62382615e-01]\n",
            " [3.59600596e-03]\n",
            " [6.19716346e-02]\n",
            " [9.47135627e-01]\n",
            " [1.20306481e-03]\n",
            " [2.36930404e-08]\n",
            " [9.99707699e-01]\n",
            " [1.25591150e-05]\n",
            " [9.95989859e-01]\n",
            " [6.02318868e-02]\n",
            " [1.08463724e-11]\n",
            " [1.00000000e+00]\n",
            " [1.35992179e-02]\n",
            " [9.99999821e-01]\n",
            " [1.47011814e-09]\n",
            " [1.00000000e+00]\n",
            " [9.99999881e-01]\n",
            " [6.10739371e-05]\n",
            " [7.83594549e-01]\n",
            " [9.35370624e-01]\n",
            " [2.80908704e-01]\n",
            " [9.99999940e-01]\n",
            " [1.37349248e-01]\n",
            " [9.98764098e-01]\n",
            " [9.60961916e-05]\n",
            " [1.57805085e-02]\n",
            " [1.94201832e-07]\n",
            " [9.97819126e-01]\n",
            " [9.99024272e-01]\n",
            " [9.98208761e-01]\n",
            " [9.99905944e-01]\n",
            " [8.90714765e-01]\n",
            " [2.33563478e-04]\n",
            " [4.07262474e-01]\n",
            " [9.99985158e-01]\n",
            " [9.99976575e-01]\n",
            " [9.97668862e-01]\n",
            " [1.39403599e-03]\n",
            " [3.02720871e-08]\n",
            " [9.99871016e-01]\n",
            " [1.36545841e-09]\n",
            " [9.99996901e-01]\n",
            " [8.29026759e-01]\n",
            " [9.99991119e-01]\n",
            " [1.00000000e+00]\n",
            " [5.07741242e-05]\n",
            " [5.83681976e-04]\n",
            " [1.00000000e+00]\n",
            " [4.94336011e-04]\n",
            " [5.54028451e-02]\n",
            " [9.99992430e-01]\n",
            " [9.99999881e-01]\n",
            " [9.99675632e-01]\n",
            " [9.99939084e-01]\n",
            " [9.78837490e-01]\n",
            " [9.84217040e-04]\n",
            " [1.35390237e-05]\n",
            " [9.99923050e-01]\n",
            " [1.18465474e-10]\n",
            " [7.02744067e-01]\n",
            " [6.15697056e-02]\n",
            " [1.38584934e-02]\n",
            " [5.46757758e-01]\n",
            " [9.93999898e-01]\n",
            " [9.91579294e-01]\n",
            " [2.74487917e-04]\n",
            " [9.99766469e-01]\n",
            " [5.85953330e-06]\n",
            " [6.10582650e-01]\n",
            " [9.99909461e-01]\n",
            " [1.08764085e-04]\n",
            " [1.00000000e+00]\n",
            " [6.10543787e-01]\n",
            " [9.97723460e-01]\n",
            " [9.99998271e-01]\n",
            " [7.63837278e-01]\n",
            " [1.22613021e-19]\n",
            " [7.82820493e-08]\n",
            " [1.00000000e+00]\n",
            " [5.83240725e-02]\n",
            " [4.97389283e-06]\n",
            " [4.65009151e-07]\n",
            " [1.00000000e+00]\n",
            " [9.99993503e-01]\n",
            " [9.99966979e-01]\n",
            " [5.60412445e-08]\n",
            " [1.52181701e-05]\n",
            " [9.99224246e-01]\n",
            " [3.55980843e-15]\n",
            " [2.23932125e-06]\n",
            " [4.15671252e-07]\n",
            " [1.95185312e-05]\n",
            " [9.99974370e-01]\n",
            " [1.73101740e-04]\n",
            " [4.09872030e-08]\n",
            " [9.99999881e-01]\n",
            " [9.99986589e-01]\n",
            " [9.83561389e-04]\n",
            " [5.59570617e-04]\n",
            " [9.99903738e-01]\n",
            " [3.13811307e-03]\n",
            " [4.87108856e-01]\n",
            " [5.43510588e-03]\n",
            " [9.93493974e-01]\n",
            " [7.65926003e-01]\n",
            " [4.75424822e-05]\n",
            " [9.99997199e-01]\n",
            " [1.60314574e-11]\n",
            " [4.21780460e-02]\n",
            " [8.63522146e-05]\n",
            " [1.61737350e-13]\n",
            " [9.99996543e-01]\n",
            " [2.53323336e-08]\n",
            " [1.00000000e+00]\n",
            " [9.99851644e-01]\n",
            " [9.98100281e-01]\n",
            " [1.00000000e+00]\n",
            " [9.28714097e-01]\n",
            " [9.99963522e-01]\n",
            " [9.95705068e-01]\n",
            " [9.99999523e-01]\n",
            " [7.16136492e-05]\n",
            " [9.99939978e-01]\n",
            " [4.37862843e-01]\n",
            " [5.43730319e-01]\n",
            " [5.73285926e-14]\n",
            " [1.96578132e-08]\n",
            " [5.34045284e-05]\n",
            " [3.29925670e-11]\n",
            " [9.99719977e-01]\n",
            " [3.49882385e-03]\n",
            " [8.85271192e-01]\n",
            " [9.09836769e-01]\n",
            " [1.00000000e+00]\n",
            " [9.60658193e-01]\n",
            " [1.00000000e+00]\n",
            " [1.30449691e-19]\n",
            " [9.99996781e-01]\n",
            " [3.18078175e-02]\n",
            " [1.00000000e+00]\n",
            " [1.13986417e-07]\n",
            " [9.99977529e-01]\n",
            " [9.99994934e-01]\n",
            " [9.99999166e-01]\n",
            " [1.00000000e+00]\n",
            " [9.87301290e-01]\n",
            " [1.94891007e-04]\n",
            " [1.00000000e+00]\n",
            " [4.54992622e-01]\n",
            " [1.00000000e+00]\n",
            " [1.04290001e-01]\n",
            " [9.99999881e-01]\n",
            " [8.39007318e-01]\n",
            " [9.99999881e-01]\n",
            " [1.31943307e-06]\n",
            " [1.82171266e-06]\n",
            " [8.21312715e-04]\n",
            " [9.56982896e-02]\n",
            " [2.15455721e-16]\n",
            " [8.55115578e-02]\n",
            " [9.99999344e-01]\n",
            " [1.07666351e-13]\n",
            " [7.46334016e-01]\n",
            " [9.99997914e-01]\n",
            " [3.37240137e-02]\n",
            " [9.98447120e-01]\n",
            " [1.90837681e-03]\n",
            " [5.82566001e-02]\n",
            " [6.47316454e-04]\n",
            " [4.14539911e-02]\n",
            " [3.53884850e-08]\n",
            " [1.13848818e-12]\n",
            " [1.00000000e+00]\n",
            " [2.07917206e-02]\n",
            " [2.27931287e-05]\n",
            " [1.84659772e-02]\n",
            " [9.90059435e-01]\n",
            " [9.56037256e-05]\n",
            " [9.99999881e-01]\n",
            " [1.14130103e-07]\n",
            " [9.13609313e-07]\n",
            " [9.77714658e-01]\n",
            " [9.72808361e-01]\n",
            " [1.00000000e+00]\n",
            " [2.52036415e-02]\n",
            " [8.89177978e-01]\n",
            " [1.00000000e+00]\n",
            " [6.14565164e-02]\n",
            " [5.39533248e-05]\n",
            " [1.94660795e-03]\n",
            " [2.25772724e-01]\n",
            " [9.99998331e-01]\n",
            " [9.99749839e-01]\n",
            " [2.23505740e-05]\n",
            " [2.68450171e-01]\n",
            " [2.07934221e-23]\n",
            " [9.99990225e-01]\n",
            " [9.67704475e-01]\n",
            " [1.00000000e+00]\n",
            " [1.20591936e-08]\n",
            " [9.52523470e-01]\n",
            " [9.99993324e-01]\n",
            " [2.71020737e-02]\n",
            " [9.99999702e-01]\n",
            " [8.92757714e-01]\n",
            " [1.64228290e-01]\n",
            " [7.39559606e-02]\n",
            " [1.00000000e+00]\n",
            " [8.80611333e-06]\n",
            " [8.13097656e-01]\n",
            " [4.14245343e-03]\n",
            " [2.38511655e-10]\n",
            " [4.67731118e-01]\n",
            " [5.62215864e-04]\n",
            " [9.99743700e-01]\n",
            " [5.94923666e-10]\n",
            " [9.97768939e-01]\n",
            " [7.46160772e-12]\n",
            " [4.43940829e-10]\n",
            " [7.50462448e-09]\n",
            " [1.52824679e-03]\n",
            " [1.35299695e-23]\n",
            " [3.42912823e-01]\n",
            " [2.72580802e-01]\n",
            " [4.62733931e-12]\n",
            " [3.68662731e-05]\n",
            " [4.68847109e-04]\n",
            " [2.29458828e-06]\n",
            " [1.00000000e+00]\n",
            " [1.00000000e+00]\n",
            " [1.00000000e+00]\n",
            " [9.99993205e-01]\n",
            " [1.03636734e-01]\n",
            " [9.99931514e-01]\n",
            " [1.39342239e-14]\n",
            " [6.63782412e-04]\n",
            " [9.86047387e-01]\n",
            " [1.00000000e+00]\n",
            " [7.16013193e-01]\n",
            " [1.00000000e+00]\n",
            " [9.99971688e-01]\n",
            " [1.00000000e+00]\n",
            " [3.31650344e-20]\n",
            " [9.99999940e-01]\n",
            " [1.56051030e-08]\n",
            " [9.63067350e-08]\n",
            " [3.37019503e-01]\n",
            " [9.63392913e-01]\n",
            " [2.80809065e-08]\n",
            " [1.00000000e+00]\n",
            " [8.12492847e-01]\n",
            " [9.99973834e-01]\n",
            " [1.42340855e-06]\n",
            " [2.24372707e-06]\n",
            " [9.92863476e-01]\n",
            " [1.00000000e+00]\n",
            " [9.99989450e-01]\n",
            " [8.86744678e-01]\n",
            " [5.01952044e-08]\n",
            " [9.93334055e-01]\n",
            " [9.99999940e-01]\n",
            " [4.45476055e-01]\n",
            " [4.12627980e-02]\n",
            " [9.99999583e-01]\n",
            " [9.99898493e-01]\n",
            " [4.22108357e-08]\n",
            " [2.48359665e-01]\n",
            " [8.38537991e-01]\n",
            " [3.41397300e-02]\n",
            " [3.33579451e-01]\n",
            " [1.58755509e-10]\n",
            " [2.22029374e-03]\n",
            " [8.71767402e-02]\n",
            " [4.53661615e-03]\n",
            " [1.00000000e+00]\n",
            " [1.00000000e+00]\n",
            " [8.87580931e-01]\n",
            " [9.99999046e-01]\n",
            " [9.99999881e-01]\n",
            " [9.99927044e-01]\n",
            " [2.28256285e-01]\n",
            " [1.85207082e-05]\n",
            " [1.78609928e-03]\n",
            " [1.42846527e-02]\n",
            " [9.70233440e-01]\n",
            " [9.99999106e-01]\n",
            " [2.69641587e-05]\n",
            " [1.00000000e+00]\n",
            " [4.80150618e-03]\n",
            " [9.99948800e-01]\n",
            " [9.99636769e-01]\n",
            " [4.15296608e-06]\n",
            " [9.36664164e-01]\n",
            " [1.76716654e-04]\n",
            " [5.24293100e-05]\n",
            " [6.86529907e-04]\n",
            " [8.91545713e-01]\n",
            " [9.42122769e-12]\n",
            " [4.99636054e-01]\n",
            " [9.99743402e-01]\n",
            " [9.96020973e-01]\n",
            " [1.00000000e+00]\n",
            " [9.99994874e-01]\n",
            " [9.96136069e-01]\n",
            " [3.49910483e-02]\n",
            " [9.98598874e-01]\n",
            " [9.97732639e-01]\n",
            " [7.36498374e-18]\n",
            " [1.87291056e-02]\n",
            " [9.85904634e-01]\n",
            " [9.96851563e-01]\n",
            " [1.92410171e-01]\n",
            " [1.00000000e+00]\n",
            " [1.43203080e-01]\n",
            " [3.86833079e-07]\n",
            " [2.76773572e-01]\n",
            " [9.99817193e-01]\n",
            " [3.57935551e-06]\n",
            " [6.35414058e-03]\n",
            " [9.99348283e-01]\n",
            " [3.98893499e-18]\n",
            " [9.99999583e-01]\n",
            " [4.95308204e-11]\n",
            " [4.42273456e-17]\n",
            " [6.20129165e-13]\n",
            " [2.20939852e-02]\n",
            " [9.93092239e-01]\n",
            " [2.07021456e-10]\n",
            " [9.99689996e-01]\n",
            " [9.57792938e-01]\n",
            " [5.03346087e-07]\n",
            " [9.99998331e-01]\n",
            " [2.48997143e-08]\n",
            " [9.86062706e-01]\n",
            " [1.00000000e+00]\n",
            " [9.88523103e-03]\n",
            " [1.00000000e+00]\n",
            " [3.39924102e-03]\n",
            " [9.60268021e-01]\n",
            " [9.97350037e-01]\n",
            " [1.00000000e+00]\n",
            " [5.04697013e-18]\n",
            " [9.99008715e-01]\n",
            " [9.99652386e-01]\n",
            " [6.15695217e-10]\n",
            " [2.06875168e-02]\n",
            " [1.83202192e-05]\n",
            " [1.00000000e+00]\n",
            " [7.76950770e-08]\n",
            " [1.00000000e+00]\n",
            " [1.00000000e+00]\n",
            " [5.56089572e-06]\n",
            " [2.38406230e-07]\n",
            " [3.51694021e-11]\n",
            " [6.24635703e-08]]\n"
          ]
        }
      ]
    },
    {
      "cell_type": "code",
      "source": [
        "len(predictions)"
      ],
      "metadata": {
        "colab": {
          "base_uri": "https://localhost:8080/"
        },
        "id": "ppupBGafSyvX",
        "outputId": "e9180da0-c71d-483b-baf1-087afa75bc73"
      },
      "execution_count": 16,
      "outputs": [
        {
          "output_type": "execute_result",
          "data": {
            "text/plain": [
              "366"
            ]
          },
          "metadata": {},
          "execution_count": 16
        }
      ]
    },
    {
      "cell_type": "code",
      "source": [
        "from sklearn.metrics import confusion_matrix, classification_report\n",
        "\n",
        "# Assuming you have ground truth labels (true_labels) and predicted labels (predictions)\n",
        "true_labels = test_data.classes\n",
        "predicted_labels = (predictions > 0.5).astype(int)  # Adjust the threshold as needed\n",
        "\n",
        "# Calculate confusion matrix\n",
        "cm = confusion_matrix(true_labels, predicted_labels)\n",
        "\n",
        "# Print confusion matrix\n",
        "print(\"Confusion Matrix:\")\n",
        "print(cm)\n",
        "\n",
        "# Print classification report\n",
        "print(\"Classification Report:\")\n",
        "print(classification_report(true_labels, predicted_labels))"
      ],
      "metadata": {
        "colab": {
          "base_uri": "https://localhost:8080/"
        },
        "id": "HXaAOEx8TGwt",
        "outputId": "f93905a4-b1cd-4d06-90bb-c3c356965d93"
      },
      "execution_count": 17,
      "outputs": [
        {
          "output_type": "stream",
          "name": "stdout",
          "text": [
            "Confusion Matrix:\n",
            "[[90 93]\n",
            " [96 87]]\n",
            "Classification Report:\n",
            "              precision    recall  f1-score   support\n",
            "\n",
            "           0       0.48      0.49      0.49       183\n",
            "           1       0.48      0.48      0.48       183\n",
            "\n",
            "    accuracy                           0.48       366\n",
            "   macro avg       0.48      0.48      0.48       366\n",
            "weighted avg       0.48      0.48      0.48       366\n",
            "\n"
          ]
        }
      ]
    }
  ]
}